{
 "cells": [
  {
   "cell_type": "code",
   "execution_count": 2,
   "id": "6e26b8c3",
   "metadata": {},
   "outputs": [],
   "source": [
    "import os\n",
    "import random\n",
    "import librosa\n",
    "import numpy as np\n",
    "import pandas as pd\n",
    "import matplotlib.pyplot as plt\n",
    "from tqdm import tqdm\n",
    "from multiprocessing import Pool, cpu_count\n",
    "import parmap \n",
    "import shutil\n",
    "from sklearn.model_selection import train_test_split"
   ]
  },
  {
   "cell_type": "code",
   "execution_count": 3,
   "id": "772595d6",
   "metadata": {},
   "outputs": [],
   "source": [
    "seed_number = 42\n",
    "random.seed(seed_number)\n",
    "np.random.seed(seed_number)"
   ]
  },
  {
   "cell_type": "code",
   "execution_count": 4,
   "id": "9bf1631a",
   "metadata": {},
   "outputs": [],
   "source": [
    "root_path = '/home/work/voice-data/dataset/'"
   ]
  },
  {
   "cell_type": "code",
   "execution_count": 8,
   "id": "5504c77c",
   "metadata": {},
   "outputs": [],
   "source": [
    "wav_files = []"
   ]
  },
  {
   "cell_type": "code",
   "execution_count": 9,
   "id": "f79bae64",
   "metadata": {},
   "outputs": [],
   "source": [
    "def process_audio_function(wav_file):\n",
    "    y, sr = librosa.load(wav_file, sr=None)\n",
    "    duration = librosa.get_duration(y=y, sr=sr)\n",
    "    return sr, duration"
   ]
  },
  {
   "cell_type": "code",
   "execution_count": 10,
   "id": "82acc516",
   "metadata": {
    "scrolled": true
   },
   "outputs": [],
   "source": [
    "for root, _, files in os.walk(root_path):\n",
    "    for file in files:\n",
    "        if file.endswith('.wav'):\n",
    "            wav_files.append(os.path.join(root,file))"
   ]
  },
  {
   "cell_type": "code",
   "execution_count": 11,
   "id": "bc2a6eb9",
   "metadata": {},
   "outputs": [
    {
     "data": {
      "text/plain": [
       "6610131"
      ]
     },
     "execution_count": 11,
     "metadata": {},
     "output_type": "execute_result"
    }
   ],
   "source": [
    "len(wav_files)"
   ]
  },
  {
   "cell_type": "markdown",
   "id": "4f8d2529",
   "metadata": {},
   "source": [
    "# Train, Validation, Test Split For Speakers"
   ]
  },
  {
   "cell_type": "code",
   "execution_count": 12,
   "id": "0606b02c",
   "metadata": {},
   "outputs": [],
   "source": [
    "root_path = '/home/work/voice-data/dataset/'"
   ]
  },
  {
   "cell_type": "code",
   "execution_count": 13,
   "id": "69b7fcea",
   "metadata": {},
   "outputs": [
    {
     "name": "stdout",
     "output_type": "stream",
     "text": [
      "/home/work/voice-data/dataset/person\n"
     ]
    }
   ],
   "source": [
    "person_dir = os.path.join(root_path, 'person')\n",
    "os.makedirs(person_dir, exist_ok=True)\n",
    "print(person_dir)"
   ]
  },
  {
   "cell_type": "code",
   "execution_count": 14,
   "id": "a1f87ded",
   "metadata": {},
   "outputs": [
    {
     "name": "stderr",
     "output_type": "stream",
     "text": [
      "100% 6610131/6610131 [00:10<00:00, 646287.82it/s]\n"
     ]
    }
   ],
   "source": [
    "speaker_datas = {}\n",
    "for file in tqdm(wav_files):\n",
    "    speaker_dir = os.path.dirname(file)\n",
    "    person_id = speaker_dir.split('/')[-1]\n",
    "    if person_id not in speaker_datas:\n",
    "        speaker_datas[person_id] = []\n",
    "    speaker_datas[person_id].append(file)"
   ]
  },
  {
   "cell_type": "code",
   "execution_count": 15,
   "id": "12504c5f",
   "metadata": {},
   "outputs": [
    {
     "name": "stderr",
     "output_type": "stream",
     "text": [
      "100% 3101/3101 [41:09<00:00,  1.26it/s] "
     ]
    },
    {
     "name": "stdout",
     "output_type": "stream",
     "text": [
      "Total persons processed: 3101\n"
     ]
    },
    {
     "name": "stderr",
     "output_type": "stream",
     "text": [
      "\n"
     ]
    }
   ],
   "source": [
    "for person_id, each_person_files in tqdm(speaker_datas.items()):\n",
    "    person_folder = os.path.join(person_dir, person_id)\n",
    "    os.makedirs(person_folder, exist_ok=True)\n",
    "\n",
    "    for each_file in each_person_files:\n",
    "        new_file_path = os.path.join(person_folder, os.path.basename(each_file))\n",
    "        shutil.move(each_file, new_file_path)\n",
    "    \n",
    "print(f'Total persons processed: {len(speaker_datas)}')"
   ]
  },
  {
   "cell_type": "markdown",
   "id": "1f578cfc",
   "metadata": {},
   "source": [
    "## DataEDA"
   ]
  },
  {
   "cell_type": "code",
   "execution_count": 16,
   "id": "4950dcc2",
   "metadata": {},
   "outputs": [
    {
     "data": {
      "text/plain": [
       "'/home/work/voice-data/dataset/person'"
      ]
     },
     "execution_count": 16,
     "metadata": {},
     "output_type": "execute_result"
    }
   ],
   "source": [
    "person_dir"
   ]
  },
  {
   "cell_type": "code",
   "execution_count": 17,
   "id": "29c02289",
   "metadata": {},
   "outputs": [],
   "source": [
    "# check number of wav file each speakers\n",
    "speaker_datas = {}\n",
    "for root, _, files in os.walk(person_dir):\n",
    "    person_id = os.path.basename(root)\n",
    "    \n",
    "    if person_id.isdigit():\n",
    "        wavfiles = [file for file in files if file.endswith('.wav')]\n",
    "        speaker_datas[person_id] = len(wavfiles)"
   ]
  },
  {
   "cell_type": "code",
   "execution_count": 18,
   "id": "8c4749bf",
   "metadata": {},
   "outputs": [
    {
     "data": {
      "image/png": "[encoded data removed]",
      "text/plain": [
       "<Figure size 600x300 with 1 Axes>"
      ]
     },
     "metadata": {},
     "output_type": "display_data"
    }
   ],
   "source": [
    "sorted_wav_counts = sorted(speaker_datas.values())\n",
    "\n",
    "plt.figure(figsize=(6, 3))\n",
    "plt.plot(sorted_wav_counts)\n",
    "\n",
    "# 최소값 표시\n",
    "plt.annotate(f'Min: {sorted_wav_counts[0]}', \n",
    "             xy=(0, sorted_wav_counts[0]), \n",
    "             xycoords='data',\n",
    "             xytext=(10, 10),\n",
    "             textcoords='offset points',\n",
    "             arrowprops=dict(arrowstyle=\"->\", color='red'),\n",
    "             fontsize=12,\n",
    "             color='red')\n",
    "\n",
    "# 최대값 표시\n",
    "plt.annotate(f'Max: {sorted_wav_counts[-1]}', \n",
    "             xy=(len(sorted_wav_counts) - 1, sorted_wav_counts[-1]), \n",
    "             xycoords='data',\n",
    "             xytext=(-10, -20),\n",
    "             textcoords='offset points',\n",
    "             arrowprops=dict(arrowstyle=\"->\", color='red'),\n",
    "             fontsize=12,\n",
    "             color='red')\n",
    "\n",
    "plt.show()"
   ]
  },
  {
   "cell_type": "code",
   "execution_count": 19,
   "id": "43d1ecf6",
   "metadata": {},
   "outputs": [],
   "source": [
    "sorted_wav_df = pd.DataFrame({\n",
    "    'num_wav': sorted_wav_counts\n",
    "})"
   ]
  },
  {
   "cell_type": "code",
   "execution_count": 20,
   "id": "a62f19a4",
   "metadata": {},
   "outputs": [
    {
     "data": {
      "text/html": [
       "<div>\n",
       "<style scoped>\n",
       "    .dataframe tbody tr th:only-of-type {\n",
       "        vertical-align: middle;\n",
       "    }\n",
       "\n",
       "    .dataframe tbody tr th {\n",
       "        vertical-align: top;\n",
       "    }\n",
       "\n",
       "    .dataframe thead th {\n",
       "        text-align: right;\n",
       "    }\n",
       "</style>\n",
       "<table border=\"1\" class=\"dataframe\">\n",
       "  <thead>\n",
       "    <tr style=\"text-align: right;\">\n",
       "      <th></th>\n",
       "      <th>num_wav</th>\n",
       "    </tr>\n",
       "  </thead>\n",
       "  <tbody>\n",
       "    <tr>\n",
       "      <th>count</th>\n",
       "      <td>3101.000000</td>\n",
       "    </tr>\n",
       "    <tr>\n",
       "      <th>mean</th>\n",
       "      <td>2131.612706</td>\n",
       "    </tr>\n",
       "    <tr>\n",
       "      <th>std</th>\n",
       "      <td>1683.841708</td>\n",
       "    </tr>\n",
       "    <tr>\n",
       "      <th>min</th>\n",
       "      <td>1.000000</td>\n",
       "    </tr>\n",
       "    <tr>\n",
       "      <th>25%</th>\n",
       "      <td>277.000000</td>\n",
       "    </tr>\n",
       "    <tr>\n",
       "      <th>50%</th>\n",
       "      <td>2296.000000</td>\n",
       "    </tr>\n",
       "    <tr>\n",
       "      <th>75%</th>\n",
       "      <td>3921.000000</td>\n",
       "    </tr>\n",
       "    <tr>\n",
       "      <th>max</th>\n",
       "      <td>4280.000000</td>\n",
       "    </tr>\n",
       "  </tbody>\n",
       "</table>\n",
       "</div>"
      ],
      "text/plain": [
       "           num_wav\n",
       "count  3101.000000\n",
       "mean   2131.612706\n",
       "std    1683.841708\n",
       "min       1.000000\n",
       "25%     277.000000\n",
       "50%    2296.000000\n",
       "75%    3921.000000\n",
       "max    4280.000000"
      ]
     },
     "execution_count": 20,
     "metadata": {},
     "output_type": "execute_result"
    }
   ],
   "source": [
    "sorted_wav_df.describe()"
   ]
  },
  {
   "cell_type": "code",
   "execution_count": 21,
   "id": "3b40d96f",
   "metadata": {},
   "outputs": [
    {
     "data": {
      "text/html": [
       "<div>\n",
       "<style scoped>\n",
       "    .dataframe tbody tr th:only-of-type {\n",
       "        vertical-align: middle;\n",
       "    }\n",
       "\n",
       "    .dataframe tbody tr th {\n",
       "        vertical-align: top;\n",
       "    }\n",
       "\n",
       "    .dataframe thead th {\n",
       "        text-align: right;\n",
       "    }\n",
       "</style>\n",
       "<table border=\"1\" class=\"dataframe\">\n",
       "  <thead>\n",
       "    <tr style=\"text-align: right;\">\n",
       "      <th></th>\n",
       "      <th>num_wav</th>\n",
       "    </tr>\n",
       "  </thead>\n",
       "  <tbody>\n",
       "    <tr>\n",
       "      <th>0.05</th>\n",
       "      <td>9.0</td>\n",
       "    </tr>\n",
       "    <tr>\n",
       "      <th>0.76</th>\n",
       "      <td>4008.0</td>\n",
       "    </tr>\n",
       "  </tbody>\n",
       "</table>\n",
       "</div>"
      ],
      "text/plain": [
       "      num_wav\n",
       "0.05      9.0\n",
       "0.76   4008.0"
      ]
     },
     "execution_count": 21,
     "metadata": {},
     "output_type": "execute_result"
    }
   ],
   "source": [
    "sorted_wav_df.quantile([0.05, 0.76])"
   ]
  },
  {
   "cell_type": "code",
   "execution_count": 22,
   "id": "2c9cf1a3",
   "metadata": {},
   "outputs": [],
   "source": [
    "## wav to txt "
   ]
  },
  {
   "cell_type": "code",
   "execution_count": 23,
   "id": "1d6198d1",
   "metadata": {},
   "outputs": [],
   "source": [
    "# 데이터셋 폴더 경로 설정\n",
    "root_path = '/home/work/voice-data/dataset/'\n",
    "\n",
    "person_dir = '/home/work/voice-data/dataset/person'\n",
    "output_dir = '/home/work/voice-data/dataset/file_paths'\n",
    "os.makedirs(output_dir, exist_ok=True)"
   ]
  },
  {
   "cell_type": "code",
   "execution_count": 24,
   "id": "65ccdb89",
   "metadata": {},
   "outputs": [],
   "source": [
    "speaker_datas = {}\n",
    "for root, _, files in os.walk(person_dir):\n",
    "    person_id = os.path.basename(root)\n",
    "\n",
    "    if person_id.isdigit():\n",
    "        wavfiles = [os.path.join(root, file) for file in files if file.endswith('.wav')]\n",
    "        if wavfiles:\n",
    "            speaker_datas[person_id] = wavfiles"
   ]
  },
  {
   "cell_type": "code",
   "execution_count": 25,
   "id": "90f4cb78",
   "metadata": {},
   "outputs": [
    {
     "data": {
      "text/plain": [
       "3101"
      ]
     },
     "execution_count": 25,
     "metadata": {},
     "output_type": "execute_result"
    }
   ],
   "source": [
    "len(speaker_datas)"
   ]
  },
  {
   "cell_type": "code",
   "execution_count": 26,
   "id": "7704b239",
   "metadata": {},
   "outputs": [
    {
     "data": {
      "text/plain": [
       "2939"
      ]
     },
     "execution_count": 26,
     "metadata": {},
     "output_type": "execute_result"
    }
   ],
   "source": [
    "## Filter data \n",
    "min_sample = 10\n",
    "filtered_data = {speaker: files for speaker, files in speaker_datas.items() if len(files)>=min_sample}\n",
    "len(filtered_data)"
   ]
  },
  {
   "cell_type": "code",
   "execution_count": 27,
   "id": "b1e1463d",
   "metadata": {},
   "outputs": [],
   "source": [
    "for speaker, files in filtered_data.items():\n",
    "    file_path = os.path.join(output_dir, f\"{speaker}.txt\")\n",
    "    \n",
    "    with open(file_path, 'w') as f:\n",
    "        for file in files:\n",
    "            f.write(f\"{file}\\n\")"
   ]
  },
  {
   "cell_type": "code",
   "execution_count": 28,
   "id": "e070dae5",
   "metadata": {},
   "outputs": [],
   "source": [
    "## Train, Valid, Test Split\n",
    "seed_number = 42"
   ]
  },
  {
   "cell_type": "code",
   "execution_count": 29,
   "id": "50edaa37",
   "metadata": {},
   "outputs": [],
   "source": [
    "train_file = os.path.join(root_path, 'train.txt')\n",
    "valid_file = os.path.join(root_path, 'valid.txt')\n",
    "test_file = os.path.join(root_path, 'test.txt')"
   ]
  },
  {
   "cell_type": "code",
   "execution_count": 30,
   "id": "b56a580a",
   "metadata": {},
   "outputs": [
    {
     "data": {
      "text/plain": [
       "(['/home/work/voice-data/dataset/file_paths/0000.txt',\n",
       "  '/home/work/voice-data/dataset/file_paths/0001.txt',\n",
       "  '/home/work/voice-data/dataset/file_paths/0002.txt',\n",
       "  '/home/work/voice-data/dataset/file_paths/0003.txt',\n",
       "  '/home/work/voice-data/dataset/file_paths/0004.txt'],\n",
       " 2939)"
      ]
     },
     "execution_count": 30,
     "metadata": {},
     "output_type": "execute_result"
    }
   ],
   "source": [
    "txt_files = sorted([os.path.join(output_dir, file) for file in os.listdir(output_dir) if file.endswith('.txt')])\n",
    "txt_files[:5], len(txt_files)"
   ]
  },
  {
   "cell_type": "code",
   "execution_count": 31,
   "id": "efb63471",
   "metadata": {},
   "outputs": [],
   "source": [
    "train_files, temp_files = train_test_split(txt_files, test_size=0.2, random_state=seed_number)\n",
    "valid_files, test_files = train_test_split(temp_files, test_size=0.5, random_state=seed_number)"
   ]
  },
  {
   "cell_type": "code",
   "execution_count": 32,
   "id": "054c4cd5",
   "metadata": {},
   "outputs": [
    {
     "name": "stdout",
     "output_type": "stream",
     "text": [
      "train_files : 2351, valid_files: 294, test_files: 294\n"
     ]
    }
   ],
   "source": [
    "print(f\"train_files : {len(train_files)}, valid_files: {len(valid_files)}, test_files: {len(test_files)}\")"
   ]
  },
  {
   "cell_type": "code",
   "execution_count": 33,
   "id": "dd85d55f",
   "metadata": {},
   "outputs": [
    {
     "data": {
      "text/plain": [
       "'/home/work/voice-data/dataset/file_paths/0576.txt'"
      ]
     },
     "execution_count": 33,
     "metadata": {},
     "output_type": "execute_result"
    }
   ],
   "source": [
    "train_files[0]"
   ]
  },
  {
   "cell_type": "code",
   "execution_count": 34,
   "id": "846c3bc1",
   "metadata": {},
   "outputs": [],
   "source": [
    "def save_split_data(file_path, data):\n",
    "    with open(file_path, 'w') as f:\n",
    "        for item in data:\n",
    "            f.write(f\"{item}\\n\")"
   ]
  },
  {
   "cell_type": "code",
   "execution_count": 35,
   "id": "b6f173af",
   "metadata": {},
   "outputs": [],
   "source": [
    "# 파일 경로 저장\n",
    "save_split_data(train_file, train_files)\n",
    "save_split_data(valid_file, valid_files)\n",
    "save_split_data(test_file, test_files)"
   ]
  },
  {
   "cell_type": "code",
   "execution_count": null,
   "id": "53b7ba29",
   "metadata": {},
   "outputs": [],
   "source": []
  },
  {
   "cell_type": "code",
   "execution_count": null,
   "id": "4f2c9137",
   "metadata": {},
   "outputs": [],
   "source": []
  }
 ],
 "metadata": {
  "kernelspec": {
   "display_name": "PyTorch 2.1 (NGC 23.09/Python 3.10) on Backend.AI",
   "language": "python",
   "name": "python3"
  },
  "language_info": {
   "codemirror_mode": {
    "name": "ipython",
    "version": 3
   },
   "file_extension": ".py",
   "mimetype": "text/x-python",
   "name": "python",
   "nbconvert_exporter": "python",
   "pygments_lexer": "ipython3",
   "version": "3.10.12"
  }
 },
 "nbformat": 4,
 "nbformat_minor": 5
}
