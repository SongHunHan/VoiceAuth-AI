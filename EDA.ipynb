{
 "cells": [
  {
   "cell_type": "code",
   "execution_count": 10,
   "id": "10483897",
   "metadata": {},
   "outputs": [],
   "source": [
    "import os\n",
    "import librosa\n",
    "import numpy as np\n",
    "import pandas as pd\n",
    "import matplotlib.pyplot as plt\n",
    "from tqdm import tqdm \n",
    "\n",
    "# 특정 폴더 경로 설정\n",
    "root_folder = '/workspace/ssd/AI_hub/speech_recognition/dataset/2.Validation/source_data/'\n",
    "\n",
    "# 모든 wav 파일 경로를 저장할 리스트\n",
    "wav_files = []\n",
    "\n",
    "# 폴더를 순회하며 모든 wav 파일 경로를 리스트에 추가\n",
    "for subdir, dirs, files in os.walk(root_folder):\n",
    "    for file in files:\n",
    "        if file.endswith('.wav'):\n",
    "            wav_files.append(os.path.join(subdir, file))"
   ]
  },
  {
   "cell_type": "code",
   "execution_count": 11,
   "id": "fd2eda4f",
   "metadata": {},
   "outputs": [
    {
     "name": "stdout",
     "output_type": "stream",
     "text": [
      "Total number of WAV files: 734329\n"
     ]
    }
   ],
   "source": [
    "# 파일 수 및 기본 정보 확인\n",
    "print(f\"Total number of WAV files: {len(wav_files)}\")"
   ]
  },
  {
   "cell_type": "code",
   "execution_count": 12,
   "id": "0f53ae09",
   "metadata": {},
   "outputs": [
    {
     "name": "stderr",
     "output_type": "stream",
     "text": [
      "Processing WAV files: 100%|██████████| 734329/734329 [04:46<00:00, 2562.80it/s]\n"
     ]
    }
   ],
   "source": [
    "# 파일 길이 및 기본 통계 수집\n",
    "lengths = []\n",
    "sample_rates = []\n",
    "\n",
    "# tqdm을 사용하여 진행 상황을 시각화\n",
    "for wav_file in tqdm(wav_files, desc=\"Processing WAV files\"):\n",
    "    y, sr = librosa.load(wav_file, sr=None)\n",
    "    lengths.append(librosa.get_duration(y=y, sr=sr))\n",
    "    sample_rates.append(sr)"
   ]
  },
  {
   "cell_type": "code",
   "execution_count": 13,
   "id": "cf2358bc",
   "metadata": {},
   "outputs": [],
   "source": [
    "# 데이터프레임으로 변환\n",
    "df = pd.DataFrame({\n",
    "    'file_path': wav_files,\n",
    "    'length': lengths,\n",
    "    'sample_rate': sample_rates\n",
    "})"
   ]
  },
  {
   "cell_type": "code",
   "execution_count": 14,
   "id": "2719b333",
   "metadata": {},
   "outputs": [
    {
     "data": {
      "image/png": "[encoded data removed]",
      "text/plain": [
       "<Figure size 1000x600 with 1 Axes>"
      ]
     },
     "metadata": {},
     "output_type": "display_data"
    }
   ],
   "source": [
    "# 파일 길이 분포 시각화\n",
    "plt.figure(figsize=(10, 6))\n",
    "plt.hist(df['length'], bins=50, color='skyblue', edgecolor='black')\n",
    "plt.title('Distribution of Audio Lengths')\n",
    "plt.xlabel('Length (seconds)')\n",
    "plt.ylabel('Frequency')\n",
    "plt.show()"
   ]
  },
  {
   "cell_type": "code",
   "execution_count": 16,
   "id": "b9cf0ea0",
   "metadata": {},
   "outputs": [
    {
     "name": "stdout",
     "output_type": "stream",
     "text": [
      "<class 'pandas.core.frame.DataFrame'>\n",
      "RangeIndex: 734329 entries, 0 to 734328\n",
      "Data columns (total 3 columns):\n",
      " #   Column       Non-Null Count   Dtype  \n",
      "---  ------       --------------   -----  \n",
      " 0   file_path    734329 non-null  object \n",
      " 1   length       734329 non-null  float64\n",
      " 2   sample_rate  734329 non-null  int64  \n",
      "dtypes: float64(1), int64(1), object(1)\n",
      "memory usage: 16.8+ MB\n"
     ]
    }
   ],
   "source": [
    "df.info()"
   ]
  },
  {
   "cell_type": "code",
   "execution_count": 18,
   "id": "39180764",
   "metadata": {},
   "outputs": [
    {
     "data": {
      "text/plain": [
       "count    734329.000000\n",
       "mean          2.970146\n",
       "std           1.915866\n",
       "min           0.616000\n",
       "25%           1.660000\n",
       "50%           2.280000\n",
       "75%           3.530000\n",
       "max          34.230000\n",
       "Name: length, dtype: float64"
      ]
     },
     "execution_count": 18,
     "metadata": {},
     "output_type": "execute_result"
    }
   ],
   "source": [
    "df['length'].describe()"
   ]
  },
  {
   "cell_type": "code",
   "execution_count": 21,
   "id": "a1c782de",
   "metadata": {},
   "outputs": [
    {
     "data": {
      "text/plain": [
       "16000    734329\n",
       "Name: sample_rate, dtype: int64"
      ]
     },
     "execution_count": 21,
     "metadata": {},
     "output_type": "execute_result"
    }
   ],
   "source": [
    "df['sample_rate'].value_counts()"
   ]
  },
  {
   "cell_type": "code",
   "execution_count": 9,
   "id": "45118827",
   "metadata": {},
   "outputs": [],
   "source": [
    "import os\n",
    "train_data_path = '/workspace/ssd/AI_hub/speech_recognition/dataset/1.Training/source_data/'\n",
    "valida_data_path = '/workspace/ssd/AI_hub/speech_recognition/dataset/2.Validation/source_data/'\n"
   ]
  },
  {
   "cell_type": "code",
   "execution_count": 10,
   "id": "66a04969",
   "metadata": {},
   "outputs": [
    {
     "name": "stdout",
     "output_type": "stream",
     "text": [
      "734329\n"
     ]
    }
   ],
   "source": [
    "# 데이터 디렉토리 내의 모든 wav 파일 경로 저장\n",
    "wav_files = []\n",
    "for root, dirs, files in os.walk(valida_data_path):\n",
    "    for file in files:\n",
    "        if file.endswith(\".wav\"):\n",
    "            wav_files.append(os.path.join(root, file))\n",
    "print(len(wav_files))"
   ]
  },
  {
   "cell_type": "code",
   "execution_count": 59,
   "id": "98160fcb",
   "metadata": {},
   "outputs": [],
   "source": [
    "speaker_files = {}\n",
    "for file in wav_files:\n",
    "    speaker_dir = os.path.dirname(file)\n",
    "    if speaker_dir not in speaker_files:\n",
    "        speaker_files[speaker_dir] = []\n",
    "    speaker_files[speaker_dir].append(file)"
   ]
  },
  {
   "cell_type": "code",
   "execution_count": 23,
   "id": "173e95bf",
   "metadata": {
    "scrolled": true
   },
   "outputs": [
    {
     "data": {
      "text/plain": [
       "1101"
      ]
     },
     "execution_count": 23,
     "metadata": {},
     "output_type": "execute_result"
    }
   ],
   "source": [
    "len(speaker_files)"
   ]
  },
  {
   "cell_type": "code",
   "execution_count": 60,
   "id": "6a94a9ab",
   "metadata": {},
   "outputs": [],
   "source": [
    "anchor_file = wav_files[2]"
   ]
  },
  {
   "cell_type": "code",
   "execution_count": 49,
   "id": "602b0637",
   "metadata": {},
   "outputs": [
    {
     "data": {
      "text/plain": [
       "'/workspace/ssd/AI_hub/speech_recognition/dataset/2.Validation/source_data/VS_call_01/call/2021-12-13/0081'"
      ]
     },
     "execution_count": 49,
     "metadata": {},
     "output_type": "execute_result"
    }
   ],
   "source": [
    "speaker_dir = os.path.dirname(anchor_file)\n",
    "speaker_dir"
   ]
  },
  {
   "cell_type": "code",
   "execution_count": 19,
   "id": "87f7f2f0",
   "metadata": {
    "scrolled": true
   },
   "outputs": [
    {
     "data": {
      "text/plain": [
       "'/workspace/ssd/AI_hub/speech_recognition/dataset/2.Validation/source_data/VS_call_01/call/2021-12-13/0081/A0144-0081F1112-10510110-00099381.wav'"
      ]
     },
     "execution_count": 19,
     "metadata": {},
     "output_type": "execute_result"
    }
   ],
   "source": [
    "positive_files = [f for f in wav_files if f.startswith(speaker_dir) and f != anchor_file]\n",
    "len(positive_files)\n",
    "positive_files[0]"
   ]
  },
  {
   "cell_type": "code",
   "execution_count": 52,
   "id": "933a8348",
   "metadata": {},
   "outputs": [
    {
     "data": {
      "text/plain": [
       "('/workspace/ssd/AI_hub/speech_recognition/dataset/2.Validation/source_data/VS_call_01/call/2021-12-13/0081/A0144-0081F1112-10510110-00099381.wav',\n",
       " '/workspace/ssd/AI_hub/speech_recognition/dataset/2.Validation/source_data/VS_call_01/call/2021-12-13/0081')"
      ]
     },
     "execution_count": 52,
     "metadata": {},
     "output_type": "execute_result"
    }
   ],
   "source": [
    "anchor_file, speaker_dir"
   ]
  },
  {
   "cell_type": "code",
   "execution_count": 53,
   "id": "f870e38d",
   "metadata": {},
   "outputs": [
    {
     "ename": "TypeError",
     "evalue": "list indices must be integers or slices, not str",
     "output_type": "error",
     "traceback": [
      "\u001b[0;31m---------------------------------------------------------------------------\u001b[0m",
      "\u001b[0;31mTypeError\u001b[0m                                 Traceback (most recent call last)",
      "Cell \u001b[0;32mIn[53], line 1\u001b[0m\n\u001b[0;32m----> 1\u001b[0m \u001b[38;5;28msorted\u001b[39m(\u001b[43mspeaker_files\u001b[49m\u001b[43m[\u001b[49m\u001b[43mspeaker_dir\u001b[49m\u001b[43m]\u001b[49m)\n",
      "\u001b[0;31mTypeError\u001b[0m: list indices must be integers or slices, not str"
     ]
    }
   ],
   "source": [
    "sorted(speaker_files[speaker_dir])"
   ]
  },
  {
   "cell_type": "code",
   "execution_count": 61,
   "id": "e289dfef",
   "metadata": {},
   "outputs": [],
   "source": [
    "speaker_dir = os.path.dirname(anchor_file)\n",
    "speaker_files = sorted(speaker_files[speaker_dir])\n",
    "anchor_idx = speaker_files.index(anchor_file)\n",
    "positive_idx = (anchor_idx + 1) % len(speaker_files)\n",
    "positive_file = speaker_files[positive_idx]\n",
    "\n"
   ]
  },
  {
   "cell_type": "code",
   "execution_count": 44,
   "id": "0aeb5552",
   "metadata": {},
   "outputs": [
    {
     "data": {
      "text/plain": [
       "('/workspace/ssd/AI_hub/speech_recognition/dataset/2.Validation/source_data/VS_call_01/call/2021-12-13/0081/A0144-0081F1112-10510110-00099381.wav',\n",
       " '/workspace/ssd/AI_hub/speech_recognition/dataset/2.Validation/source_data/VS_call_01/call/2021-12-13/0081/A0083-0081F1112-10510130-03797608.wav')"
      ]
     },
     "execution_count": 44,
     "metadata": {},
     "output_type": "execute_result"
    }
   ],
   "source": [
    "anchor_file,positive_file"
   ]
  },
  {
   "cell_type": "code",
   "execution_count": 56,
   "id": "174d8c4a",
   "metadata": {},
   "outputs": [
    {
     "data": {
      "text/plain": [
       "('/workspace/ssd/AI_hub/speech_recognition/dataset/2.Validation/source_data/VS_call_01/call/2021-12-13/0081/A0144-0081F1112-10510110-00099381.wav',\n",
       " '/workspace/ssd/AI_hub/speech_recognition/dataset/2.Validation/source_data/VS_call_01/call/2021-12-13/0081/A0144-0081F1112-10510110-00099430.wav')"
      ]
     },
     "execution_count": 56,
     "metadata": {},
     "output_type": "execute_result"
    }
   ],
   "source": [
    "anchor_file,positive_file"
   ]
  },
  {
   "cell_type": "code",
   "execution_count": 62,
   "id": "6013607b",
   "metadata": {},
   "outputs": [
    {
     "data": {
      "text/plain": [
       "('/workspace/ssd/AI_hub/speech_recognition/dataset/2.Validation/source_data/VS_call_01/call/2021-12-13/0081/A0012-0081F1112-10510100-00036576.wav',\n",
       " '/workspace/ssd/AI_hub/speech_recognition/dataset/2.Validation/source_data/VS_call_01/call/2021-12-13/0081/A0012-0081F1112-10510100-00036612.wav')"
      ]
     },
     "execution_count": 62,
     "metadata": {},
     "output_type": "execute_result"
    }
   ],
   "source": [
    "anchor_file,positive_file"
   ]
  },
  {
   "cell_type": "code",
   "execution_count": null,
   "id": "b70a8e40",
   "metadata": {},
   "outputs": [],
   "source": []
  },
  {
   "cell_type": "code",
   "execution_count": null,
   "id": "0acd5e5e",
   "metadata": {},
   "outputs": [],
   "source": []
  },
  {
   "cell_type": "code",
   "execution_count": 30,
   "id": "98786385",
   "metadata": {},
   "outputs": [],
   "source": [
    "processor = Wav2Vec2Processor.from_pretrained(\"facebook/wav2vec2-base-960h\")"
   ]
  },
  {
   "cell_type": "code",
   "execution_count": 37,
   "id": "8dd4b5cb",
   "metadata": {},
   "outputs": [
    {
     "name": "stderr",
     "output_type": "stream",
     "text": [
      "It is strongly recommended to pass the ``sampling_rate`` argument to this function. Failing to do so can result in silent errors that might be hard to debug.\n"
     ]
    },
    {
     "data": {
      "text/plain": [
       "{'input_values': tensor([[-0.0555,  0.0150, -0.0090,  ..., -0.3528, -0.3589, -0.3559]])}"
      ]
     },
     "execution_count": 37,
     "metadata": {},
     "output_type": "execute_result"
    }
   ],
   "source": [
    "audio, sampling_rate = librosa.load(\"test_voice2_16k.wav\", sr=16000)\n",
    "inputs = processor(audio, padding=True, truncation=True, max_length=int(2.0 * 16000), return_tensors=\"pt\")\n",
    "inputs"
   ]
  },
  {
   "cell_type": "code",
   "execution_count": null,
   "id": "1e9d764e",
   "metadata": {},
   "outputs": [],
   "source": []
  },
  {
   "cell_type": "code",
   "execution_count": 5,
   "id": "40a88f16",
   "metadata": {},
   "outputs": [],
   "source": [
    "from transformers import Wav2Vec2FeatureExtractor\n",
    "import librosa\n",
    "\n",
    "feature_extractor = Wav2Vec2FeatureExtractor.from_pretrained(\"facebook/wav2vec2-base-960h\")"
   ]
  },
  {
   "cell_type": "code",
   "execution_count": 8,
   "id": "ab3ba436",
   "metadata": {},
   "outputs": [],
   "source": [
    "audio, sampling_rate = librosa.load('test_voice2_16k.wav', sr=16000)\n",
    "inputs = feature_extractor(audio, sampling_rate=sampling_rate, max_length=int(2.0 * sampling_rate), truncation=True, padding=\"max_length\", return_tensors=\"pt\")"
   ]
  },
  {
   "cell_type": "code",
   "execution_count": 9,
   "id": "f699515d",
   "metadata": {},
   "outputs": [
    {
     "name": "stdout",
     "output_type": "stream",
     "text": [
      "Input length in samples: 32000\n",
      "Input length in seconds: 2.0\n"
     ]
    }
   ],
   "source": [
    "# 전처리된 입력 텐서의 길이 확인\n",
    "input_length = inputs.input_values.shape[1]\n",
    "print(f\"Input length in samples: {input_length}\")\n",
    "\n",
    "# 길이를 초 단위로 변환\n",
    "input_length_in_seconds = input_length / sampling_rate\n",
    "print(f\"Input length in seconds: {input_length_in_seconds}\")\n"
   ]
  },
  {
   "cell_type": "code",
   "execution_count": null,
   "id": "35358ea2",
   "metadata": {},
   "outputs": [],
   "source": []
  },
  {
   "cell_type": "code",
   "execution_count": null,
   "id": "8d80a424",
   "metadata": {},
   "outputs": [],
   "source": [
    "def load_audio(self, file_path):\n",
    "    audio, sampling_rate = librosa.load(file_path, sr=self.feature_extractor.sampling_rate)\n",
    "    \n",
    "    # 오디오 길이를 4초로 제한\n",
    "    max_length = 4 * self.feature_extractor.sampling_rate\n",
    "    if len(audio) > max_length:\n",
    "        audio = audio[:max_length]\n",
    "    \n",
    "    # Whisper feature extractor를 사용하여 mel spectrogram 생성\n",
    "    inputs = self.feature_extractor(\n",
    "        audio, \n",
    "        sampling_rate=self.feature_extractor.sampling_rate,\n",
    "        chunk_length=4,  # chunk_length를 4로 설정\n",
    "        return_tensors=\"pt\"\n",
    "    )\n",
    "    \n",
    "    return inputs.input_features.squeeze(0)"
   ]
  },
  {
   "cell_type": "code",
   "execution_count": null,
   "id": "a7d00a90",
   "metadata": {},
   "outputs": [],
   "source": []
  },
  {
   "cell_type": "code",
   "execution_count": 2,
   "id": "3cfb644e",
   "metadata": {},
   "outputs": [],
   "source": [
    "### Validation, Test Split"
   ]
  },
  {
   "cell_type": "code",
   "execution_count": 1,
   "id": "f101f5d1",
   "metadata": {},
   "outputs": [],
   "source": [
    "import os\n",
    "import shutil\n",
    "import random\n",
    "from pathlib import Path"
   ]
  },
  {
   "cell_type": "code",
   "execution_count": 2,
   "id": "4cbbb8c4",
   "metadata": {},
   "outputs": [],
   "source": [
    "validation_dir = '/workspace/ssd/AI_hub/speech_recognition/dataset/2.Validation/source_data/'\n",
    "test_dir = '/workspace/ssd/AI_hub/speech_recognition/dataset/3.Test/source_data/'"
   ]
  },
  {
   "cell_type": "code",
   "execution_count": 3,
   "id": "fe2cd73c",
   "metadata": {},
   "outputs": [],
   "source": [
    "os.makedirs(test_dir, exist_ok=True)"
   ]
  },
  {
   "cell_type": "code",
   "execution_count": null,
   "id": "9147651b",
   "metadata": {},
   "outputs": [],
   "source": []
  },
  {
   "cell_type": "code",
   "execution_count": 4,
   "id": "eedd1365",
   "metadata": {},
   "outputs": [
    {
     "data": {
      "text/plain": [
       "'/workspace/ssd/AI_hub/speech_recognition/dataset/2.Validation/source_data/VS_call_01/call/2021-12-13/0081/A0083-0081F1112-10510130-00048359.wav'"
      ]
     },
     "execution_count": 4,
     "metadata": {},
     "output_type": "execute_result"
    }
   ],
   "source": [
    "# 모든 .wav 파일을 리스트에 저장\n",
    "data = []\n",
    "for root, dirs, files in os.walk(validation_dir):\n",
    "    for file in files:\n",
    "        if file.endswith(\".wav\"):\n",
    "            data.append(os.path.join(root, file))\n",
    "data[0]"
   ]
  },
  {
   "cell_type": "code",
   "execution_count": 5,
   "id": "ae8f5dfb",
   "metadata": {},
   "outputs": [],
   "source": [
    "speaker_datas = {}\n",
    "for file in data:\n",
    "    speaker_dir = os.path.dirname(file)\n",
    "    person_id = speaker_dir.split('/')[-1]\n",
    "    if person_id not in speaker_datas:\n",
    "        speaker_datas[person_id] = []\n",
    "    speaker_datas[person_id].append(file)"
   ]
  },
  {
   "cell_type": "code",
   "execution_count": 6,
   "id": "a4bf610d",
   "metadata": {},
   "outputs": [
    {
     "data": {
      "text/plain": [
       "653"
      ]
     },
     "execution_count": 6,
     "metadata": {},
     "output_type": "execute_result"
    }
   ],
   "source": [
    "len(speaker_datas.keys())"
   ]
  },
  {
   "cell_type": "code",
   "execution_count": 7,
   "id": "9ed8de35",
   "metadata": {},
   "outputs": [],
   "source": [
    "for k, files in speaker_datas.items():\n",
    "    random.shuffle(files)\n",
    "    split_point = int(len(files) * 0.5) ## 5:5 split cnt\n",
    "    \n",
    "    test_files = files[:split_point]\n",
    "    validation_files = files[split_point:]\n",
    "    \n",
    "    for file in test_files:\n",
    "        relative_path = os.path.relpath(file, validation_dir)\n",
    "        new_file_path = os.path.join(test_dir, relative_path)\n",
    "        os.makedirs(os.path.dirname(new_file_path), exist_ok=True)\n",
    "        shutil.move(file, new_file_path)"
   ]
  },
  {
   "cell_type": "code",
   "execution_count": 8,
   "id": "726b4da4",
   "metadata": {},
   "outputs": [
    {
     "name": "stdout",
     "output_type": "stream",
     "text": [
      "Total persons processed: 653\n"
     ]
    }
   ],
   "source": [
    "print(f'Total persons processed: {len(speaker_datas)}')"
   ]
  },
  {
   "cell_type": "code",
   "execution_count": null,
   "id": "05d0460d",
   "metadata": {},
   "outputs": [],
   "source": []
  },
  {
   "cell_type": "code",
   "execution_count": null,
   "id": "b6ed9b6e",
   "metadata": {},
   "outputs": [],
   "source": []
  },
  {
   "cell_type": "code",
   "execution_count": 9,
   "id": "261396c6",
   "metadata": {},
   "outputs": [
    {
     "data": {
      "text/plain": [
       "367316"
      ]
     },
     "execution_count": 9,
     "metadata": {},
     "output_type": "execute_result"
    }
   ],
   "source": [
    "# 모든 .wav 파일을 리스트에 저장\n",
    "data = []\n",
    "for root, dirs, files in os.walk(validation_dir):\n",
    "    for file in files:\n",
    "        if file.endswith(\".wav\"):\n",
    "            data.append(os.path.join(root, file))\n",
    "len(data)"
   ]
  },
  {
   "cell_type": "code",
   "execution_count": 10,
   "id": "26d2aeae",
   "metadata": {},
   "outputs": [
    {
     "data": {
      "text/plain": [
       "367013"
      ]
     },
     "execution_count": 10,
     "metadata": {},
     "output_type": "execute_result"
    }
   ],
   "source": [
    "# 모든 .wav 파일을 리스트에 저장\n",
    "data = []\n",
    "for root, dirs, files in os.walk(test_dir):\n",
    "    for file in files:\n",
    "        if file.endswith(\".wav\"):\n",
    "            data.append(os.path.join(root, file))\n",
    "len(data)"
   ]
  },
  {
   "cell_type": "code",
   "execution_count": null,
   "id": "a9e43c96",
   "metadata": {},
   "outputs": [],
   "source": []
  }
 ],
 "metadata": {
  "kernelspec": {
   "display_name": "Python 3 (ipykernel)",
   "language": "python",
   "name": "python3"
  },
  "language_info": {
   "codemirror_mode": {
    "name": "ipython",
    "version": 3
   },
   "file_extension": ".py",
   "mimetype": "text/x-python",
   "name": "python",
   "nbconvert_exporter": "python",
   "pygments_lexer": "ipython3",
   "version": "3.10.12"
  }
 },
 "nbformat": 4,
 "nbformat_minor": 5
}
